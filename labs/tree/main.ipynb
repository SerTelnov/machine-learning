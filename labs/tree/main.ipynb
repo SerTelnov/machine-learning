{
 "cells": [
  {
   "cell_type": "code",
   "execution_count": 1,
   "metadata": {},
   "outputs": [],
   "source": [
    "import numpy as np\n",
    "from sklearn.metrics import accuracy_score\n",
    "\n",
    "import data\n",
    "import core\n",
    "\n",
    "HEIGHT_UNLIMIT = 1e10"
   ]
  },
  {
   "cell_type": "code",
   "execution_count": null,
   "metadata": {},
   "outputs": [
    {
     "name": "stdout",
     "output_type": "stream",
     "text": [
      "start for test #1\n",
      "  build tree with height 14\n",
      "  winner h = 3 with accuracy 0.9997429966589566\n",
      "start for test #2\n",
      "  build tree with height 15\n",
      "  winner h = 9 with accuracy 0.7061068702290076\n",
      "start for test #3\n",
      "  build tree with height 11\n",
      "  winner h = 3 with accuracy 1.0\n",
      "start for test #4\n",
      "  build tree with height 11\n",
      "  winner h = 5 with accuracy 0.992\n",
      "start for test #5\n",
      "  build tree with height 9\n",
      "  winner h = 3 with accuracy 0.9956709956709957\n",
      "start for test #6\n",
      "  build tree with height 13\n",
      "  winner h = 3 with accuracy 0.9988962472406181\n",
      "start for test #7\n",
      "  build tree with height 11\n",
      "  winner h = 3 with accuracy 0.9967441860465116\n",
      "start for test #8\n",
      "  build tree with height 7\n",
      "  winner h = 4 with accuracy 0.997920997920998\n",
      "start for test #9\n",
      "  build tree with height 9\n",
      "  winner h = 5 with accuracy 0.8607843137254902\n",
      "start for test #10\n",
      "  build tree with height 13\n",
      "  winner h = 4 with accuracy 0.9979879275653923\n",
      "start for test #11\n",
      "  build tree with height 14\n",
      "  winner h = 3 with accuracy 0.999195171026157\n",
      "start for test #12\n",
      "  build tree with height 15\n",
      "  winner h = 10 with accuracy 0.8737019365703059\n",
      "start for test #13\n",
      "  build tree with height 13\n",
      "  winner h = 7 with accuracy 0.6513761467889908\n",
      "start for test #14\n",
      "  build tree with height 11\n",
      "  winner h = 5 with accuracy 0.990351215746816\n",
      "start for test #15\n",
      "  build tree with height 12\n",
      "  winner h = 2 with accuracy 1.0\n",
      "start for test #16\n",
      "  build tree with height 13\n",
      "  winner h = 3 with accuracy 1.0\n",
      "start for test #17\n",
      "  build tree with height 11\n",
      "  winner h = 7 with accuracy 0.8397543271915131\n",
      "start for test #18\n"
     ]
    }
   ],
   "source": [
    "for test in range(1, 22):\n",
    "    test_str = str(test).zfill(2)\n",
    "    print('start for test #' + str(test))\n",
    "\n",
    "    accuracy_winner = -1\n",
    "    h_winner = -1\n",
    "    \n",
    "    X_train, Y_train = data.read_data(test_str + '_train.csv')\n",
    "    X_test, Y_test = data.read_data(test_str + '_test.csv')\n",
    "\n",
    "    tree_builder = core.TreeBuilder(X_train, Y_train, HEIGHT_UNLIMIT)\n",
    "    tree = tree_builder.build_tree()\n",
    "    print('  build tree with height ' + str(tree.height))\n",
    "\n",
    "    for _ in range(1, tree.height):\n",
    "        h = tree.height - 1\n",
    "        tree = tree_builder.reduce_height(tree, h)\n",
    "        predictions = list(map(lambda x : tree.classify(x), X_test))\n",
    "        accuracy = accuracy_score(Y_test, predictions)\n",
    "\n",
    "        if accuracy_winner < accuracy:\n",
    "            accuracy_winner = accuracy\n",
    "            h_winner = h\n",
    "\n",
    "    print('  winner h = ' + str(h_winner) + ' with accuracy ' + str(accuracy_winner))"
   ]
  },
  {
   "cell_type": "code",
   "execution_count": null,
   "metadata": {},
   "outputs": [],
   "source": []
  }
 ],
 "metadata": {
  "kernelspec": {
   "display_name": "Python 3",
   "language": "python",
   "name": "python3"
  },
  "language_info": {
   "codemirror_mode": {
    "name": "ipython",
    "version": 3
   },
   "file_extension": ".py",
   "mimetype": "text/x-python",
   "name": "python",
   "nbconvert_exporter": "python",
   "pygments_lexer": "ipython3",
   "version": "3.7.4"
  }
 },
 "nbformat": 4,
 "nbformat_minor": 2
}
