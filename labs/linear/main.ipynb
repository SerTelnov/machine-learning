{
 "cells": [
  {
   "cell_type": "code",
   "execution_count": 1,
   "metadata": {},
   "outputs": [],
   "source": [
    "import numpy as np\n",
    "import math\n",
    "\n",
    "import core\n",
    "from data import read_data\n",
    "\n",
    "MAX_ITER = 1000\n",
    "\n",
    "# TEST_DATA_PATH = \"labs/linear/resources/\"\n",
    "TEST_DATA_PATH = \"resources/\""
   ]
  },
  {
   "cell_type": "code",
   "execution_count": 2,
   "metadata": {},
   "outputs": [],
   "source": [
    "def calc_nrmse(Y, A):\n",
    "    return math.sqrt(\\\n",
    "        np.sum(\\\n",
    "            np.power(Y - A, 2)\\\n",
    "        ) / Y.size)\n",
    "\n",
    "def evaluate_nrmse_score(dataset, W):\n",
    "    X = np.array(dataset.X)\n",
    "    Y = np.array(dataset.Y)\n",
    "    A = core.calc_answers(X, W)\n",
    "\n",
    "    return calc_nrmse(Y, A)"
   ]
  },
  {
   "cell_type": "code",
   "execution_count": 3,
   "metadata": {},
   "outputs": [
    {
     "name": "stdout",
     "output_type": "stream",
     "text": [
      "start for dataset #0\n",
      "for gradient descent NRMSE: '1.0712609699476021'\n",
      "start for dataset #1\n",
      "for gradient descent NRMSE: '7869502.791948522'\n",
      "start for dataset #2\n",
      "for gradient descent NRMSE: '17512880.431066908'\n",
      "start for dataset #3\n",
      "for gradient descent NRMSE: '434322.18184263736'\n",
      "start for dataset #4\n",
      "for gradient descent NRMSE: '16091358.180016467'\n",
      "start for dataset #5\n",
      "for gradient descent NRMSE: '35856526.09629492'\n",
      "start for dataset #6\n",
      "for gradient descent NRMSE: '34117565.44693861'\n"
     ]
    }
   ],
   "source": [
    "print(\"Compare gradient descent and ...\")\n",
    "for test_number in range(0, 7):\n",
    "    print(\"Dataset #\" + str(test_number))\n",
    "\n",
    "    train, test = read_data(TEST_DATA_PATH + str(test_number) + \".txt\")\n",
    "    gd_W = core.gradient_descent(train)\n",
    "    gd_score = evaluate_nrmse_score(test, gd_W)\n",
    "\n",
    "    print(\"for gradient descent NRMSE: '\" + str(gd_score) + \"'\")"
   ]
  }
 ],
 "metadata": {
  "kernelspec": {
   "display_name": "Python 3",
   "language": "python",
   "name": "python3"
  },
  "language_info": {
   "codemirror_mode": {
    "name": "ipython",
    "version": 3
   },
   "file_extension": ".py",
   "mimetype": "text/x-python",
   "name": "python",
   "nbconvert_exporter": "python",
   "pygments_lexer": "ipython3",
   "version": "3.7.4"
  }
 },
 "nbformat": 4,
 "nbformat_minor": 2
}
