{
 "cells": [
  {
   "cell_type": "code",
   "execution_count": 1,
   "metadata": {},
   "outputs": [],
   "source": [
    "import matplotlib.pyplot as plt\n",
    "from sklearn.metrics import accuracy_score, f1_score\n",
    "import numpy as np\n",
    "\n",
    "import core\n",
    "import data\n",
    "\n",
    "batch_data = data.read_batch_data()"
   ]
  },
  {
   "cell_type": "code",
   "execution_count": 2,
   "metadata": {},
   "outputs": [],
   "source": [
    "def cross_validation(alfa, batch_data, errors_cost = [1, 1]):\n",
    "    contingency_matrix = [[0] * 2 for _ in range(2)]\n",
    "\n",
    "    y_classifier = []\n",
    "    y_actual = []\n",
    "    for test_idx in range(len(batch_data)):\n",
    "        train_data = data.concate_except_idx(batch_data, test_idx)\n",
    "        preparetion = core.train(train_data, errors_cost)\n",
    "\n",
    "        for test_mail in batch_data[test_idx]:\n",
    "            is_spam = core.classifier(preparetion, alfa, test_mail)\n",
    "            y_classifier.append(is_spam)\n",
    "            y_actual.append(test_mail.is_spam)\n",
    "\n",
    "    return y_actual, y_classifier"
   ]
  },
  {
   "cell_type": "code",
   "execution_count": 3,
   "metadata": {},
   "outputs": [],
   "source": [
    "def cross_validation_f_measure(alfa, batch_data, errors_cost = [1, 1]):\n",
    "    y_actual, y_classifier = cross_validation(alfa, batch_data, errors_cost)\n",
    "    return f1_score(y_actual, y_classifier)\n",
    "\n",
    "def cross_validation_accuracy(alfa, batch_data, errors_cost = [1, 1]):\n",
    "    y_actual, y_classifier = cross_validation(alfa, batch_data, errors_cost)\n",
    "    return accuracy_score(y_actual, y_classifier)"
   ]
  },
  {
   "cell_type": "code",
   "execution_count": 4,
   "metadata": {},
   "outputs": [
    {
     "name": "stdout",
     "output_type": "stream",
     "text": [
      "eval for alfa 0.0\n",
      "eval for alfa 0.1\n",
      "eval for alfa 0.2\n",
      "eval for alfa 0.3\n",
      "eval for alfa 0.4\n",
      "eval for alfa 0.5\n",
      "eval for alfa 0.6\n",
      "eval for alfa 0.8\n",
      "eval for alfa 0.9\n",
      "Winner alfa 0.99 with cross validation result 0.9321100917431193\n"
     ]
    }
   ],
   "source": [
    "winner_accuracy = -1\n",
    "for alfa in np.arange(0.0, 1.0, 0.01):\n",
    "    if str(alfa * 10).endswith('0'):\n",
    "        print(\"eval for alfa \" + str(alfa))\n",
    "    accuracy = cross_validation_accuracy(alfa, batch_data)\n",
    "\n",
    "    if winner_accuracy < accuracy:\n",
    "        winner_accuracy = accuracy\n",
    "        winner_alfa = alfa\n",
    "\n",
    "print(\"Winner alfa \" + str(alfa) + \" with cross validation result \" + str(accuracy))"
   ]
  },
  {
   "cell_type": "code",
   "execution_count": 5,
   "metadata": {},
   "outputs": [],
   "source": [
    "def test(batch_data, alfa, lambda_spam, lambda_legit):\n",
    "    for test_idx in range(len(batch_data)):\n",
    "        train_data = data.concate_except_idx(batch_data, test_idx)\n",
    "        preparetion = core.train(train_data, [lambda_legit, lambda_spam])\n",
    "\n",
    "        for test_mail in batch_data[test_idx]:\n",
    "            is_spam = core.classifier(preparetion, alfa, test_mail)\n",
    "            if is_spam == 1 and test_mail.is_spam == 0:\n",
    "                return False\n",
    "    return True"
   ]
  },
  {
   "cell_type": "code",
   "execution_count": 6,
   "metadata": {},
   "outputs": [
    {
     "name": "stdout",
     "output_type": "stream",
     "text": [
      "No mistakes at lambda spam '1' and legit '10000000000000000000000000000000000000000000000000000000'\n"
     ]
    }
   ],
   "source": [
    "alfa = 0.99\n",
    "found = False\n",
    "step = 100000\n",
    "limit = 10 ** 90\n",
    "\n",
    "lambda_spam = 1\n",
    "iter = 0\n",
    "while lambda_spam < limit and not found:\n",
    "    lambda_legit = lambda_spam\n",
    "    while lambda_legit < limit:\n",
    "        iter += 1\n",
    "        if test(batch_data, alfa, lambda_spam, lambda_legit):\n",
    "            print(\"No mistakes at lambda spam '\" + str(lambda_spam) + \"' and legit '\" + str(lambda_legit) + \"'\")\n",
    "            found = True\n",
    "            break\n",
    "        if iter % 100 == 0:\n",
    "            print(\"Iter number \" + str(iter))\n",
    "\n",
    "        lambda_legit *= step\n",
    "    lambda_spam *= step"
   ]
  },
  {
   "cell_type": "code",
   "execution_count": 7,
   "metadata": {},
   "outputs": [
    {
     "data": {
      "image/png": "[encoded data removed]",
      "text/plain": [
       "<Figure size 432x288 with 1 Axes>"
      ]
     },
     "metadata": {
      "needs_background": "light"
     },
     "output_type": "display_data"
    }
   ],
   "source": [
    "alfa = 0.01\n",
    "step = 100000\n",
    "\n",
    "lambda_spam = 1\n",
    "lambda_legit = 1\n",
    "\n",
    "accuracy = []\n",
    "l = []\n",
    "while lambda_legit <= 10 ** 70:\n",
    "    accuracy.append(cross_validation_accuracy(alfa, batch_data, [lambda_legit, lambda_spam]))\n",
    "    l.append(lambda_legit)\n",
    "    lambda_legit *= step\n",
    "\n",
    "plt.plot(l, accuracy)\n",
    "plt.ylabel('Accuracy')\n",
    "plt.xlabel('legit error cost')\n",
    "plt.xscale('log')\n",
    "plt.show()"
   ]
  }
 ],
 "metadata": {
  "kernelspec": {
   "display_name": "Python 3",
   "language": "python",
   "name": "python3"
  },
  "language_info": {
   "codemirror_mode": {
    "name": "ipython",
    "version": 3
   },
   "file_extension": ".py",
   "mimetype": "text/x-python",
   "name": "python",
   "nbconvert_exporter": "python",
   "pygments_lexer": "ipython3",
   "version": "3.7.4"
  }
 },
 "nbformat": 4,
 "nbformat_minor": 2
}
